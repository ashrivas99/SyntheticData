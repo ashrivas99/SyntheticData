{
  "nbformat": 4,
  "nbformat_minor": 0,
  "metadata": {
    "colab": {
      "provenance": [],
      "include_colab_link": true
    },
    "kernelspec": {
      "name": "python3",
      "display_name": "Python 3"
    }
  },
  "cells": [
    {
      "cell_type": "markdown",
      "metadata": {
        "id": "view-in-github",
        "colab_type": "text"
      },
      "source": [
        "<a href=\"https://colab.research.google.com/github/ashrivas99/SyntheticData/blob/main/Synthetic_Data_Generation_AI_101_%7C_Jordan_Harrod.ipynb\" target=\"_parent\"><img src=\"https://colab.research.google.com/assets/colab-badge.svg\" alt=\"Open In Colab\"/></a>"
      ]
    },
    {
      "cell_type": "markdown",
      "metadata": {
        "id": "wdrfLzrfYxy2"
      },
      "source": [
        "### Welcome to the tutorial! Today, we’re going to go through some examples of synthetic data generation.\n",
        "\n",
        "This tutorial accompanies the [Synthetic Data Generation](https://youtu.be/-vUoRZgWKUw) video on [Jordan Harrod's ](https://www.youtube.com/jordanharrod)YouTube channel. Follow along there, or experiment on your own!\n",
        "\n",
        "**To start, you can either click on the arrow in the top left corner of the next code block (next to \"import tensorflow as tf\") or click Copy to Drive on the top left (above this text block) so that you can edit this notebook.**"
      ]
    },
    {
      "cell_type": "code",
      "metadata": {
        "id": "jUhOUShsic_t",
        "outputId": "a935f07b-4cf1-419b-c70a-1b711420b721",
        "colab": {
          "base_uri": "https://localhost:8080/",
          "height": 1000
        }
      },
      "source": [
        "!pip install wandb\n",
        "import wandb\n",
        "import keras\n",
        "import tensorflow as tf\n",
        "import numpy as np\n",
        "from keras import Sequential\n",
        "from keras.layers import Conv2D, Flatten, Dense # Keras is also a popular machine learning library - it runs on TensorFlow, making it easier to build models.\n",
        "import matplotlib.pyplot as plt # matplotlib handles graphing\n",
        "from wandb.keras import WandbCallback\n",
        "\n",
        "wandb.login()\n",
        "wandb.init(project=\"synth-data-youtube\", config={\"hyper\": \"parameter\"}) # change the project name to whatever you want!"
      ],
      "execution_count": null,
      "outputs": [
        {
          "output_type": "stream",
          "text": [
            "Requirement already satisfied: wandb in /usr/local/lib/python3.6/dist-packages (0.10.4)\n",
            "Requirement already satisfied: subprocess32>=3.5.3 in /usr/local/lib/python3.6/dist-packages (from wandb) (3.5.4)\n",
            "Requirement already satisfied: six>=1.13.0 in /usr/local/lib/python3.6/dist-packages (from wandb) (1.15.0)\n",
            "Requirement already satisfied: python-dateutil>=2.6.1 in /usr/local/lib/python3.6/dist-packages (from wandb) (2.8.1)\n",
            "Requirement already satisfied: psutil>=5.0.0 in /usr/local/lib/python3.6/dist-packages (from wandb) (5.4.8)\n",
            "Requirement already satisfied: sentry-sdk>=0.4.0 in /usr/local/lib/python3.6/dist-packages (from wandb) (0.18.0)\n",
            "Requirement already satisfied: docker-pycreds>=0.4.0 in /usr/local/lib/python3.6/dist-packages (from wandb) (0.4.0)\n",
            "Requirement already satisfied: configparser>=3.8.1 in /usr/local/lib/python3.6/dist-packages (from wandb) (5.0.0)\n",
            "Requirement already satisfied: protobuf>=3.12.0 in /usr/local/lib/python3.6/dist-packages (from wandb) (3.12.4)\n",
            "Requirement already satisfied: PyYAML in /usr/local/lib/python3.6/dist-packages (from wandb) (3.13)\n",
            "Requirement already satisfied: watchdog>=0.8.3 in /usr/local/lib/python3.6/dist-packages (from wandb) (0.10.3)\n",
            "Requirement already satisfied: promise<3,>=2.0 in /usr/local/lib/python3.6/dist-packages (from wandb) (2.3)\n",
            "Requirement already satisfied: Click>=7.0 in /usr/local/lib/python3.6/dist-packages (from wandb) (7.1.2)\n",
            "Requirement already satisfied: GitPython>=1.0.0 in /usr/local/lib/python3.6/dist-packages (from wandb) (3.1.9)\n",
            "Requirement already satisfied: requests<3,>=2.0.0 in /usr/local/lib/python3.6/dist-packages (from wandb) (2.23.0)\n",
            "Requirement already satisfied: shortuuid>=0.5.0 in /usr/local/lib/python3.6/dist-packages (from wandb) (1.0.1)\n",
            "Requirement already satisfied: urllib3>=1.10.0 in /usr/local/lib/python3.6/dist-packages (from sentry-sdk>=0.4.0->wandb) (1.24.3)\n",
            "Requirement already satisfied: certifi in /usr/local/lib/python3.6/dist-packages (from sentry-sdk>=0.4.0->wandb) (2020.6.20)\n",
            "Requirement already satisfied: setuptools in /usr/local/lib/python3.6/dist-packages (from protobuf>=3.12.0->wandb) (50.3.0)\n",
            "Requirement already satisfied: pathtools>=0.1.1 in /usr/local/lib/python3.6/dist-packages (from watchdog>=0.8.3->wandb) (0.1.2)\n",
            "Requirement already satisfied: gitdb<5,>=4.0.1 in /usr/local/lib/python3.6/dist-packages (from GitPython>=1.0.0->wandb) (4.0.5)\n",
            "Requirement already satisfied: chardet<4,>=3.0.2 in /usr/local/lib/python3.6/dist-packages (from requests<3,>=2.0.0->wandb) (3.0.4)\n",
            "Requirement already satisfied: idna<3,>=2.5 in /usr/local/lib/python3.6/dist-packages (from requests<3,>=2.0.0->wandb) (2.10)\n",
            "Requirement already satisfied: smmap<4,>=3.0.1 in /usr/local/lib/python3.6/dist-packages (from gitdb<5,>=4.0.1->GitPython>=1.0.0->wandb) (3.0.4)\n"
          ],
          "name": "stdout"
        },
        {
          "output_type": "stream",
          "text": [
            "\u001b[34m\u001b[1mwandb\u001b[0m: Currently logged in as: \u001b[33mjordan-b-harrod\u001b[0m (use `wandb login --relogin` to force relogin)\n"
          ],
          "name": "stderr"
        },
        {
          "output_type": "display_data",
          "data": {
            "text/html": [
              "\n",
              "                Tracking run with wandb version 0.10.4<br/>\n",
              "                Syncing run <strong style=\"color:#cdcd00\">light-dawn-10</strong> to <a href=\"https://wandb.ai\" target=\"_blank\">Weights & Biases</a> <a href=\"https://docs.wandb.com/integrations/jupyter.html\" target=\"_blank\">(Documentation)</a>.<br/>\n",
              "                Project page: <a href=\"https://wandb.ai/jordan-b-harrod/synth-data-youtube\" target=\"_blank\">https://wandb.ai/jordan-b-harrod/synth-data-youtube</a><br/>\n",
              "                Run page: <a href=\"https://wandb.ai/jordan-b-harrod/synth-data-youtube/runs/wcum77xp\" target=\"_blank\">https://wandb.ai/jordan-b-harrod/synth-data-youtube/runs/wcum77xp</a><br/>\n",
              "                Run data is saved locally in <code>wandb/run-20201005_003533-wcum77xp</code><br/><br/>\n",
              "            "
            ],
            "text/plain": [
              "<IPython.core.display.HTML object>"
            ]
          },
          "metadata": {
            "tags": []
          }
        },
        {
          "output_type": "execute_result",
          "data": {
            "text/plain": [
              "<wandb.sdk.wandb_run.Run at 0x7fd1ba1f29e8>"
            ],
            "text/html": [
              "<h1>Run(wcum77xp)</h1><p></p><iframe src=\"https://wandb.ai/jordan-b-harrod/synth-data-youtube/runs/wcum77xp\" style=\"border:none;width:100%;height:400px\"></iframe>"
            ]
          },
          "metadata": {
            "tags": []
          },
          "execution_count": 1
        }
      ]
    },
    {
      "cell_type": "code",
      "metadata": {
        "id": "IdWIxLeVkMud",
        "outputId": "cffb3bad-826f-4fb4-cf73-31af73de9c6e",
        "colab": {
          "base_uri": "https://localhost:8080/",
          "height": 202
        }
      },
      "source": [
        "!pip install sklearn pydbgen\n",
        "import sklearn\n",
        "import pydbgen\n",
        "from sklearn import svm\n",
        "from sklearn.datasets import make_classification, make_gaussian_quantiles\n",
        "from sklearn.model_selection import train_test_split\n",
        "\n",
        "X, y = make_classification(n_features=2, n_redundant=0, n_classes=2)\n",
        "X_train, X_test, y_train, y_test = train_test_split(X, y, test_size=0.2)\n",
        "\n",
        "plt.figure()\n",
        "plt.scatter(X[:,0], X[:,1], c=y)\n",
        "wandb.log({\"chart\": plt})\n",
        "\n",
        "clf = svm.SVC(probability=True)\n",
        "clf.fit(X_train, y_train)\n",
        "y_pred = clf.predict(X_test)\n",
        "y_probas = clf.predict_proba(X_test)\n",
        "\n",
        "wandb.sklearn.plot_classifier(clf, X_train, X_test, y_train, y_test, y_pred = y_pred, y_probas=y_probas, labels=['1','2'], model_name='SVC', feature_names=None)\n",
        "\n"
      ],
      "execution_count": null,
      "outputs": [
        {
          "output_type": "stream",
          "text": [
            "\u001b[34m\u001b[1mwandb\u001b[0m: \n",
            "\u001b[34m\u001b[1mwandb\u001b[0m: Plotting SVC.\n",
            "\u001b[34m\u001b[1mwandb\u001b[0m: \u001b[33mWARNING\u001b[0m feature_importances_ or coef_ attribute not in classifier. Cannot plot feature importances.\n",
            "\u001b[34m\u001b[1mwandb\u001b[0m: Logged feature importances.\n",
            "\u001b[34m\u001b[1mwandb\u001b[0m: Logged learning curve.\n",
            "\u001b[34m\u001b[1mwandb\u001b[0m: Logged confusion matrix.\n",
            "\u001b[34m\u001b[1mwandb\u001b[0m: Logged summary metrics.\n",
            "\u001b[34m\u001b[1mwandb\u001b[0m: Logged class proportions.\n",
            "\u001b[34m\u001b[1mwandb\u001b[0m: Logged calibration curve.\n",
            "\u001b[34m\u001b[1mwandb\u001b[0m: Logged roc curve.\n",
            "\u001b[34m\u001b[1mwandb\u001b[0m: Logged precision recall curve.\n"
          ],
          "name": "stderr"
        }
      ]
    },
    {
      "cell_type": "code",
      "metadata": {
        "id": "mRyhq4ghjhdR",
        "outputId": "94d4f24b-b2cc-41f5-d0e9-67e4b51d2fde",
        "colab": {
          "base_uri": "https://localhost:8080/",
          "height": 268
        }
      },
      "source": [
        "(x_train, y_train), (x_test, y_test) = tf.keras.datasets.fashion_mnist.load_data()\n",
        "\n",
        "example = np.rot90(x_train[0])\n",
        "x_train = x_train[:,np.newaxis,:,:]\n",
        "x_test = x_test[:,np.newaxis,:,:]\n",
        "y_train = keras.utils.to_categorical(y_train)\n",
        "y_test = keras.utils.to_categorical(y_test)\n",
        "\n",
        "fig, axs = plt.subplots(2, 2)\n",
        "axs[0, 0].imshow(np.squeeze(x_train[1,:,:]))\n",
        "axs[1, 0].imshow(np.squeeze(x_train[2,:,:]))\n",
        "axs[0, 1].imshow(np.squeeze(x_train[3,:,:]))\n",
        "axs[1, 1].imshow(np.squeeze(x_train[4,:,:]))\n",
        "plt.show()\n",
        "\n",
        "wandb.log({\"example_ims\": fig})"
      ],
      "execution_count": null,
      "outputs": [
        {
          "output_type": "display_data",
          "data": {
            "image/png": "[encoded data removed]",
            "text/plain": [
              "<Figure size 432x288 with 4 Axes>"
            ]
          },
          "metadata": {
            "tags": [],
            "needs_background": "light"
          }
        }
      ]
    },
    {
      "cell_type": "code",
      "metadata": {
        "id": "Vbe_RbHmp_fL",
        "outputId": "351f8c76-f3ee-4309-f7c0-789adcda04a9",
        "colab": {
          "base_uri": "https://localhost:8080/",
          "height": 622
        }
      },
      "source": [
        "model = Sequential()\n",
        "model.add(Conv2D(input_shape=(1,28, 28),filters=4, kernel_size=4, strides=2, padding='same'))\n",
        "model.add(Conv2D(filters=4, kernel_size=4, strides=2, padding='same'))\n",
        "model.add(Flatten())\n",
        "model.add(Dense(10, activation='softmax'))\n",
        "\n",
        "model.summary()\n",
        "\n",
        "opt = tf.keras.optimizers.RMSprop(learning_rate=0.0001, decay=1e-6)\n",
        "\n",
        "model.compile(opt, loss='categorical_crossentropy', metrics=['acc'])\n",
        "\n",
        "history = model.fit(x_train, y_train, validation_data=(x_test, y_test), epochs=10, callbacks=[WandbCallback()])\n",
        "\n"
      ],
      "execution_count": null,
      "outputs": [
        {
          "output_type": "stream",
          "text": [
            "Model: \"sequential\"\n",
            "_________________________________________________________________\n",
            "Layer (type)                 Output Shape              Param #   \n",
            "=================================================================\n",
            "conv2d (Conv2D)              (None, 1, 14, 4)          1796      \n",
            "_________________________________________________________________\n",
            "conv2d_1 (Conv2D)            (None, 1, 7, 4)           260       \n",
            "_________________________________________________________________\n",
            "flatten (Flatten)            (None, 28)                0         \n",
            "_________________________________________________________________\n",
            "dense (Dense)                (None, 10)                290       \n",
            "=================================================================\n",
            "Total params: 2,346\n",
            "Trainable params: 2,346\n",
            "Non-trainable params: 0\n",
            "_________________________________________________________________\n",
            "Epoch 1/10\n",
            "1875/1875 [==============================] - 5s 3ms/step - loss: 9.0731 - acc: 0.3975 - val_loss: 2.3684 - val_acc: 0.5631\n",
            "Epoch 2/10\n",
            "1875/1875 [==============================] - 5s 3ms/step - loss: 1.5096 - acc: 0.6187 - val_loss: 1.1258 - val_acc: 0.6516\n",
            "Epoch 3/10\n",
            "1875/1875 [==============================] - 5s 3ms/step - loss: 0.9456 - acc: 0.6891 - val_loss: 0.8932 - val_acc: 0.7011\n",
            "Epoch 4/10\n",
            "1875/1875 [==============================] - 5s 3ms/step - loss: 0.8120 - acc: 0.7239 - val_loss: 0.8062 - val_acc: 0.7272\n",
            "Epoch 5/10\n",
            "1875/1875 [==============================] - 5s 3ms/step - loss: 0.7527 - acc: 0.7441 - val_loss: 0.7734 - val_acc: 0.7358\n",
            "Epoch 6/10\n",
            "1875/1875 [==============================] - 5s 3ms/step - loss: 0.7160 - acc: 0.7563 - val_loss: 0.7293 - val_acc: 0.7554\n",
            "Epoch 7/10\n",
            "1875/1875 [==============================] - 5s 3ms/step - loss: 0.6888 - acc: 0.7656 - val_loss: 0.7114 - val_acc: 0.7592\n",
            "Epoch 8/10\n",
            "1875/1875 [==============================] - 5s 3ms/step - loss: 0.6668 - acc: 0.7726 - val_loss: 0.6864 - val_acc: 0.7681\n",
            "Epoch 9/10\n",
            "1875/1875 [==============================] - 5s 3ms/step - loss: 0.6488 - acc: 0.7791 - val_loss: 0.6686 - val_acc: 0.7726\n",
            "Epoch 10/10\n",
            "1875/1875 [==============================] - 5s 3ms/step - loss: 0.6340 - acc: 0.7838 - val_loss: 0.6553 - val_acc: 0.7803\n"
          ],
          "name": "stdout"
        }
      ]
    },
    {
      "cell_type": "code",
      "metadata": {
        "id": "ux0E7osrqFyP",
        "outputId": "f099c9c3-448c-439b-9db9-52a29147a122",
        "colab": {
          "base_uri": "https://localhost:8080/",
          "height": 282
        }
      },
      "source": [
        "print(np.argmax(model.predict(example[np.newaxis,np.newaxis, :,:])))\n",
        "plt.figure()\n",
        "plt.imshow(np.squeeze(example))\n",
        "\n",
        "wandb.log({\"example_rot\": fig})\n"
      ],
      "execution_count": null,
      "outputs": [
        {
          "output_type": "stream",
          "text": [
            "1\n"
          ],
          "name": "stdout"
        },
        {
          "output_type": "display_data",
          "data": {
            "image/png": "[encoded data removed]",
            "text/plain": [
              "<Figure size 432x288 with 1 Axes>"
            ]
          },
          "metadata": {
            "tags": [],
            "needs_background": "light"
          }
        }
      ]
    },
    {
      "cell_type": "code",
      "metadata": {
        "id": "Eb_MrsgRqIVs",
        "outputId": "db5d073b-8330-4b50-e2f1-d71f92ead17c",
        "colab": {
          "base_uri": "https://localhost:8080/",
          "height": 370
        }
      },
      "source": [
        "from keras.preprocessing.image import ImageDataGenerator\n",
        "datagen = ImageDataGenerator(rotation_range=180, data_format=\"channels_first\")\n",
        "datagen.fit(x_train)\n",
        "\n",
        "model.fit(datagen.flow(x_train, y_train, batch_size=32), epochs=10, validation_data=(x_test, y_test), callbacks=[WandbCallback()])\n",
        "\n",
        "print(np.argmax(model.predict(example[np.newaxis,np.newaxis, :,:])))\n",
        "\n"
      ],
      "execution_count": null,
      "outputs": [
        {
          "output_type": "stream",
          "text": [
            "Epoch 1/10\n",
            "1875/1875 [==============================] - 18s 9ms/step - loss: 2.3410 - acc: 0.2390 - val_loss: 1.7174 - val_acc: 0.3930\n",
            "Epoch 2/10\n",
            "1875/1875 [==============================] - 18s 9ms/step - loss: 1.8510 - acc: 0.3356 - val_loss: 1.7214 - val_acc: 0.3797\n",
            "Epoch 3/10\n",
            "1875/1875 [==============================] - 17s 9ms/step - loss: 1.7717 - acc: 0.3719 - val_loss: 1.7061 - val_acc: 0.4033\n",
            "Epoch 4/10\n",
            "1875/1875 [==============================] - 17s 9ms/step - loss: 1.7293 - acc: 0.3882 - val_loss: 1.6985 - val_acc: 0.4014\n",
            "Epoch 5/10\n",
            "1875/1875 [==============================] - 17s 9ms/step - loss: 1.6944 - acc: 0.4049 - val_loss: 1.7014 - val_acc: 0.3954\n",
            "Epoch 6/10\n",
            "1875/1875 [==============================] - 18s 9ms/step - loss: 1.6693 - acc: 0.4153 - val_loss: 1.6686 - val_acc: 0.4022\n",
            "Epoch 7/10\n",
            "1875/1875 [==============================] - 17s 9ms/step - loss: 1.6521 - acc: 0.4220 - val_loss: 1.6250 - val_acc: 0.4230\n",
            "Epoch 8/10\n",
            "1875/1875 [==============================] - 17s 9ms/step - loss: 1.6317 - acc: 0.4326 - val_loss: 1.5985 - val_acc: 0.4316\n",
            "Epoch 9/10\n",
            "1875/1875 [==============================] - 17s 9ms/step - loss: 1.6108 - acc: 0.4409 - val_loss: 1.5851 - val_acc: 0.4433\n",
            "Epoch 10/10\n",
            "1875/1875 [==============================] - 17s 9ms/step - loss: 1.5981 - acc: 0.4423 - val_loss: 1.5563 - val_acc: 0.4465\n",
            "2\n"
          ],
          "name": "stdout"
        }
      ]
    },
    {
      "cell_type": "code",
      "metadata": {
        "id": "ENMFY_Rl-FXj"
      },
      "source": [
        "print(np.argmax(model.predict(example[np.newaxis,np.newaxis, :,:])))"
      ],
      "execution_count": null,
      "outputs": []
    }
  ]
}